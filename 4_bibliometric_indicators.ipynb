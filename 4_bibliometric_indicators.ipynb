{
 "cells": [
  {
   "cell_type": "markdown",
   "id": "3f12c378-f48f-4b08-93e8-18445cd30442",
   "metadata": {
    "tags": []
   },
   "source": [
    "## Summary"
   ]
  },
  {
   "cell_type": "markdown",
   "id": "7d7977f5-44c4-4014-873b-f32905afe428",
   "metadata": {},
   "source": [
    "The bibliometric indicators, mostly taken from the Leiden Ranking itself, are obtained for each university."
   ]
  },
  {
   "cell_type": "markdown",
   "id": "2670a8e2-697e-4ea2-9d9c-1214f70116be",
   "metadata": {},
   "source": [
    "# Packages"
   ]
  },
  {
   "cell_type": "code",
   "execution_count": null,
   "id": "929d2b26-7758-428f-951c-82fc39538602",
   "metadata": {},
   "outputs": [],
   "source": [
    "import pandas as pd"
   ]
  },
  {
   "cell_type": "markdown",
   "id": "1a5a21b7-24ba-4a91-abf6-e9ef725513a5",
   "metadata": {},
   "source": [
    "# Leiden Ranking"
   ]
  },
  {
   "cell_type": "markdown",
   "id": "736f544f-0a73-4aa4-affc-eca9e147510b",
   "metadata": {},
   "source": [
    "Data from the Leiden Ranking (2021) Excel file is imported."
   ]
  },
  {
   "cell_type": "code",
   "execution_count": null,
   "id": "641129b5-5c84-4fe0-8558-14f927597c41",
   "metadata": {},
   "outputs": [],
   "source": [
    "df_l = pd.read_csv('data/CWTS_leiden_ranking_2021.csv', sep=';', encoding='UTF-8')\n",
    "df_l"
   ]
  },
  {
   "cell_type": "markdown",
   "id": "12849bf5-e382-4e12-ae8a-304362c7eaa7",
   "metadata": {},
   "source": [
    "The main indicators are:\n",
    "+ impact_P - Total number of publications of a university.\n",
    "+ P_top10 - The number of a university’s publications that, compared with other publications in the same field and in the same year, belong to the top 10% most frequently cited.\n",
    "+ collab_P -  The number of a university’s publications that have been co-authored with one or more other organizations.\n",
    "+ P_int_collab - The number of a university’s publications that have been co-authored by two or more countries.\n",
    "+ P_OA - The number of open access publications of a university.\n",
    "+ TCS - The total number of citations of the publications of a university.\n",
    "+ TCNS - The total number of citations of the publications of a university, normalized for field and publication year.\n",
    "+ P_industry_collab - The number of a university’s publications that have been co-authored with one or more industrial organizations.\n",
    "+ PA_F_MF - The number of female authorships as a proportion of a university’s number of male and female authorships."
   ]
  },
  {
   "cell_type": "markdown",
   "id": "3269cdc2-cb8c-4b2c-aa2c-bfbf2b740cad",
   "metadata": {},
   "source": [
    "Indicators are filtered to only 2016-2019 period and non fractional counting values."
   ]
  },
  {
   "cell_type": "code",
   "execution_count": null,
   "id": "bb870bc3-d935-4f5c-8dc6-3230e807e6cd",
   "metadata": {},
   "outputs": [],
   "source": [
    "df_l = df_l[(df_l.Period == '2016–2019') & (df_l.Frac_counting == 0)].copy()\n",
    "df_l.shape"
   ]
  },
  {
   "cell_type": "markdown",
   "id": "7f5ef78f-460d-4500-b13c-eea572a18bde",
   "metadata": {},
   "source": [
    "## Publications by categories"
   ]
  },
  {
   "cell_type": "code",
   "execution_count": null,
   "id": "82c010e6-faf8-4f91-b9a9-3b30c0b38500",
   "metadata": {},
   "outputs": [],
   "source": [
    "df_categories = df_l[['University', 'Country', 'Field', 'impact_P']].copy()\n",
    "df_categories"
   ]
  },
  {
   "cell_type": "code",
   "execution_count": null,
   "id": "670b2502-7749-419f-ad44-b455d21bf88d",
   "metadata": {},
   "outputs": [],
   "source": [
    "df_categories = df_categories.pivot_table(columns='Field', index=['University', 'Country'], values='impact_P').reset_index()\n",
    "df_categories"
   ]
  },
  {
   "cell_type": "markdown",
   "id": "3798ee85-8089-41dd-9806-30163266fc6c",
   "metadata": {},
   "source": [
    "In addition to the overall number of publications (impact_P), this value is obtained for the broad areas of knowledge:\n",
    "+ impact_P_Bio_Health - Biomedical and health sciences\n",
    "+ impact_P_Life_Earth - Life and earth sciences\n",
    "+ impact_P_Math_Comp - Mathematics and computer science\n",
    "+ impact_P_Phy_Eng - Physical sciences and engineering\n",
    "+ impact_P_Soc_Hum - Social sciences and humanities"
   ]
  },
  {
   "cell_type": "code",
   "execution_count": null,
   "id": "f6c439e3-c2eb-4a60-a15a-485000fbe7ca",
   "metadata": {},
   "outputs": [],
   "source": [
    "df_categories.rename(columns={'All sciences':'impact_P',\n",
    "                              'Biomedical and health sciences':'impact_P_Bio_Health',\n",
    "                              'Life and earth sciences':'impact_P_Life_Earth',\n",
    "                              'Mathematics and computer science':'impact_P_Math_Comp',\n",
    "                              'Physical sciences and engineering':'impact_P_Phy_Eng',\n",
    "                              'Social sciences and humanities':'impact_P_Soc_Hum'},\n",
    "                    inplace=True)"
   ]
  },
  {
   "cell_type": "markdown",
   "id": "95d57843-4a7e-4753-914b-d0160c2e01fd",
   "metadata": {},
   "source": [
    "## Selecting indicators"
   ]
  },
  {
   "cell_type": "markdown",
   "id": "ec1ea98b-cce0-4566-bc2a-fec502bb44e4",
   "metadata": {},
   "source": [
    "The indicators are obtained with respect to the total number of disciplines."
   ]
  },
  {
   "cell_type": "code",
   "execution_count": null,
   "id": "8764726e-8aac-4108-a6e6-230558a9dc72",
   "metadata": {},
   "outputs": [],
   "source": [
    "df_l = df_l[df_l.Field == 'All sciences'][['University', 'P_top10', 'collab_P', 'P_int_collab', 'P_OA', 'TCS', 'TNCS', 'P_industry_collab', 'PA_F_MF']].copy()\n",
    "df_l"
   ]
  },
  {
   "cell_type": "markdown",
   "id": "eaa751f7-ba67-414b-9a1b-211d83c4944c",
   "metadata": {},
   "source": [
    "Publications by areas of knowledge and indicators are merged."
   ]
  },
  {
   "cell_type": "code",
   "execution_count": null,
   "id": "496afe95-4de7-4c42-93bd-101bb88a939d",
   "metadata": {},
   "outputs": [],
   "source": [
    "df = df_categories.merge(df_l, how='inner', on='University')\n",
    "df"
   ]
  },
  {
   "cell_type": "markdown",
   "id": "746e494e-2588-421a-889d-9fd375cbdb2a",
   "metadata": {},
   "source": [
    "PA_F_MF column type is fixed."
   ]
  },
  {
   "cell_type": "code",
   "execution_count": null,
   "id": "60f1cdb8-f756-46b9-a12a-b0fb40f66ffd",
   "metadata": {},
   "outputs": [],
   "source": [
    "df['PA_F_MF'] = df['PA_F_MF'].str.replace('%', '')\n",
    "df['PA_F_MF'] = df['PA_F_MF'].str.replace(',', '.')\n",
    "df['PA_F_MF'] = df['PA_F_MF'].astype('float')"
   ]
  },
  {
   "cell_type": "markdown",
   "id": "8d355577-fa1e-413d-9c90-204873be7b3d",
   "metadata": {},
   "source": [
    "# GRID ID"
   ]
  },
  {
   "cell_type": "markdown",
   "id": "231348e8-914d-48c9-849b-9c6aa2d71b82",
   "metadata": {},
   "source": [
    "Leiden Ranknig id and GRID id are merged with the main dataset."
   ]
  },
  {
   "cell_type": "code",
   "execution_count": null,
   "id": "311eb998-ae2a-4073-acaf-467eac239c24",
   "metadata": {},
   "outputs": [],
   "source": [
    "df_ids = pd.read_csv('data/universities_ids.tsv', sep='\\t', encoding='UTF-8')\n",
    "df_ids"
   ]
  },
  {
   "cell_type": "markdown",
   "id": "56b4d5ca-a60b-45b5-8798-bfee4a952138",
   "metadata": {},
   "source": [
    "By curating the dataset from the previous notebook, this dataset is generated."
   ]
  },
  {
   "cell_type": "code",
   "execution_count": null,
   "id": "878902ce-984f-4755-b180-a42b38198f66",
   "metadata": {},
   "outputs": [],
   "source": [
    "df_grid = pd.read_csv('data/leiden_grid_id.tsv', sep='\\t', encoding='UTF-8')\n",
    "df_grid"
   ]
  },
  {
   "cell_type": "markdown",
   "id": "b8e9242b-dc30-472f-bc97-632c9aff1a3a",
   "metadata": {},
   "source": [
    "Both names (short and full) and both ids (Leiden and GRID) are combined in a dataframe."
   ]
  },
  {
   "cell_type": "code",
   "execution_count": null,
   "id": "25a66435-e2ba-4ddb-83ca-5d9a316cd2cf",
   "metadata": {},
   "outputs": [],
   "source": [
    "df_grid = df_grid.merge(df_ids[['id','University']], how='inner', on='id')\n",
    "df_grid = df_grid[['id', 'grid_id', 'university', 'University']]\n",
    "df_grid.rename(columns={'university':'short_name',\n",
    "                        'University':'full_name'},\n",
    "              inplace=True)\n",
    "df_grid"
   ]
  },
  {
   "cell_type": "markdown",
   "id": "326fdece-fa93-4c2d-84da-542f237acdb2",
   "metadata": {},
   "source": [
    "There are only one duplicated (two universities have the same GRID id)."
   ]
  },
  {
   "cell_type": "code",
   "execution_count": null,
   "id": "54ed573d-f204-4299-b1dd-5883761e367b",
   "metadata": {},
   "outputs": [],
   "source": [
    "df_grid[df_grid.grid_id.duplicated()]"
   ]
  },
  {
   "cell_type": "code",
   "execution_count": null,
   "id": "8f1cc24d-74fc-48bc-a41f-d5f39c0a6ffa",
   "metadata": {},
   "outputs": [],
   "source": [
    "df_grid[df_grid.short_name.duplicated()]"
   ]
  },
  {
   "cell_type": "code",
   "execution_count": null,
   "id": "436d404e-186c-47c3-b5db-75ccee353237",
   "metadata": {},
   "outputs": [],
   "source": [
    "df_grid[df_grid.full_name.duplicated()]"
   ]
  },
  {
   "cell_type": "code",
   "execution_count": null,
   "id": "85db7897-96b5-4c1e-8418-bcf6735c9af4",
   "metadata": {},
   "outputs": [],
   "source": [
    "df[df.University.duplicated()]"
   ]
  },
  {
   "cell_type": "code",
   "execution_count": null,
   "id": "982521de-b11d-49ce-8ac5-07b210a4a1fd",
   "metadata": {},
   "outputs": [],
   "source": [
    "df[df.University.isin(df_grid.full_name.tolist())]"
   ]
  },
  {
   "cell_type": "code",
   "execution_count": null,
   "id": "f781f4a1-1a6a-40c2-8b16-236fc8277d8c",
   "metadata": {},
   "outputs": [],
   "source": [
    "df_grid = df_grid.merge(df, how='inner', left_on='full_name', right_on='University')\n",
    "df_grid"
   ]
  },
  {
   "cell_type": "code",
   "execution_count": null,
   "id": "7989612f-e2f3-4fe1-88ea-34aa69d2f706",
   "metadata": {},
   "outputs": [],
   "source": [
    "df_grid.drop(columns='University', inplace=True)"
   ]
  },
  {
   "cell_type": "markdown",
   "id": "35a13c7e-9822-429b-a0a4-e8e8fd3d5455",
   "metadata": {},
   "source": [
    "# Dimensions publications"
   ]
  },
  {
   "cell_type": "code",
   "execution_count": null,
   "id": "31ea7083-97b9-4707-bd20-033855946636",
   "metadata": {},
   "outputs": [],
   "source": [
    "df_dim_wos = pd.read_csv('data/grid_pubs_dim_wos.tsv', sep='\\t', encoding='UTF-8')\n",
    "df_dim_wos"
   ]
  },
  {
   "cell_type": "code",
   "execution_count": null,
   "id": "1283fcf0-cf59-4a2a-b2c8-993d088dfd95",
   "metadata": {},
   "outputs": [],
   "source": [
    "df_dim_wos[df_dim_wos['grid_id'].isin(df_grid.grid_id.tolist())].shape"
   ]
  },
  {
   "cell_type": "markdown",
   "id": "b45b36df-8961-4d37-b7f5-f4e58bb672a5",
   "metadata": {},
   "source": [
    "The percentage of Dimensions publications indexed in Web of Science is added to the main dataframe."
   ]
  },
  {
   "cell_type": "code",
   "execution_count": null,
   "id": "48077f90-d4da-4a67-997d-40fda572632d",
   "metadata": {},
   "outputs": [],
   "source": [
    "df_grid = df_grid.merge(df_dim_wos, how='inner', on='grid_id')\n",
    "df_grid"
   ]
  },
  {
   "cell_type": "markdown",
   "id": "1a3732fb-88b0-4f97-9469-a625b43da93c",
   "metadata": {},
   "source": [
    "Final dataset is exported."
   ]
  },
  {
   "cell_type": "code",
   "execution_count": null,
   "id": "70426f7f-a4c8-4dbb-9eb7-a9a0f2cdc17e",
   "metadata": {},
   "outputs": [],
   "source": [
    "df_grid.to_csv('data/leiden_indicators.tsv', index=False, sep='\\t')"
   ]
  }
 ],
 "metadata": {
  "kernelspec": {
   "display_name": "Python 3 (ipykernel)",
   "language": "python",
   "name": "python3"
  },
  "language_info": {
   "codemirror_mode": {
    "name": "ipython",
    "version": 3
   },
   "file_extension": ".py",
   "mimetype": "text/x-python",
   "name": "python",
   "nbconvert_exporter": "python",
   "pygments_lexer": "ipython3",
   "version": "3.9.7"
  }
 },
 "nbformat": 4,
 "nbformat_minor": 5
}
