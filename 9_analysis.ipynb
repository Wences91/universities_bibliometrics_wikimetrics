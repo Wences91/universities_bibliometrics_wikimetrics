{
 "cells": [
  {
   "cell_type": "markdown",
   "id": "37d33f5e-c250-4450-af81-d254592cba21",
   "metadata": {
    "tags": []
   },
   "source": [
    "## Summary"
   ]
  },
  {
   "cell_type": "markdown",
   "id": "cd68222f-551d-4065-96be-60d04aeb7d0c",
   "metadata": {},
   "source": [
    "This notebook generates a table of aggregate metrics per country."
   ]
  },
  {
   "cell_type": "code",
   "execution_count": null,
   "id": "46766c42-2cb6-4099-a34f-ecf18b9735f8",
   "metadata": {},
   "outputs": [],
   "source": [
    "import pandas as pd"
   ]
  },
  {
   "cell_type": "markdown",
   "id": "ad168471-33ff-40bd-b664-30673c147391",
   "metadata": {},
   "source": [
    "# Packages"
   ]
  },
  {
   "cell_type": "code",
   "execution_count": null,
   "id": "f8817516-1495-4531-9c10-711a479315fc",
   "metadata": {},
   "outputs": [],
   "source": [
    "df = pd.read_csv('data/full_leiden_wikipedia_spec_indicators.tsv', sep='\\t', encoding='UTF-8')\n",
    "df"
   ]
  },
  {
   "cell_type": "markdown",
   "id": "ce6ae953-94dd-4bf4-80d9-196a654ae0f6",
   "metadata": {},
   "source": [
    "# Summary table"
   ]
  },
  {
   "cell_type": "code",
   "execution_count": null,
   "id": "5a44db4f-38bd-4101-87e6-35f7011fff17",
   "metadata": {},
   "outputs": [],
   "source": [
    "df_st = df[['Country', 'impact_P', 'impact_P_Bio_Health', 'impact_P_Life_Earth', 'impact_P_Math_Comp',\n",
    "            'impact_P_Phy_Eng', 'impact_P_Soc_Hum', 'P_top10', 'collab_P','P_int_collab', 'P_OA', 'TCS',\n",
    "            'TNCS', 'P_industry_collab', 'PA_F_MF', 'dimensions_wos', 'langlinks', 'total_views', 'local_views',\n",
    "            'int_views', 'rest_views', 'editors', 'revisions', 'words', 'unique_references', 'minor_edits',\n",
    "            'characters', 'sections', 'references', 'topic_specialisation', 'topic_specialisation_bio',\n",
    "            'topic_specialisation_eng', 'gini_production', 'established_year', 'age']].copy()\n",
    "df_st"
   ]
  },
  {
   "cell_type": "code",
   "execution_count": null,
   "id": "7cddd48f-fa59-40d8-932d-f758327385bd",
   "metadata": {},
   "outputs": [],
   "source": [
    "df_st = df_st.groupby('Country').mean().round(2).reset_index()\n",
    "df_st"
   ]
  },
  {
   "cell_type": "code",
   "execution_count": null,
   "id": "e675a967-28f5-48dd-81fc-74993ad51390",
   "metadata": {},
   "outputs": [],
   "source": [
    "df_st = df_st.merge(df[['Country']].groupby('Country').size().reset_index(name='Universities'), how='inner', on='Country')\n",
    "df_st.sort_values(by='Universities', ascending=False)"
   ]
  },
  {
   "cell_type": "code",
   "execution_count": null,
   "id": "379e9d7a-8247-4173-bc1a-9462f071ee24",
   "metadata": {},
   "outputs": [],
   "source": [
    "df_st.to_csv('results/agg_values.tsv', sep='\\t', index=False)"
   ]
  }
 ],
 "metadata": {
  "kernelspec": {
   "display_name": "Python 3 (ipykernel)",
   "language": "python",
   "name": "python3"
  },
  "language_info": {
   "codemirror_mode": {
    "name": "ipython",
    "version": 3
   },
   "file_extension": ".py",
   "mimetype": "text/x-python",
   "name": "python",
   "nbconvert_exporter": "python",
   "pygments_lexer": "ipython3",
   "version": "3.9.7"
  }
 },
 "nbformat": 4,
 "nbformat_minor": 5
}
