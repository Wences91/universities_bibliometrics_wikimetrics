{
 "cells": [
  {
   "cell_type": "markdown",
   "id": "e617c025-3f54-4b1a-927c-c4691d63217a",
   "metadata": {
    "tags": []
   },
   "source": [
    "## Summary"
   ]
  },
  {
   "cell_type": "markdown",
   "id": "89ebade1-e850-4cbd-9e82-c6ad18932078",
   "metadata": {},
   "source": [
    "This notebook generates a first dataset of universities with bibliometric and Wikipedia data."
   ]
  },
  {
   "cell_type": "markdown",
   "id": "d46c9800-9a5a-4879-a473-532a8e46be90",
   "metadata": {
    "tags": []
   },
   "source": [
    "# Packages"
   ]
  },
  {
   "cell_type": "code",
   "execution_count": null,
   "id": "f25e5d2c-39fe-4093-9ff9-2972bee0ffdc",
   "metadata": {},
   "outputs": [],
   "source": [
    "import pandas as pd"
   ]
  },
  {
   "cell_type": "markdown",
   "id": "c1210e37-d6a3-4cf7-81b6-e2d95497d742",
   "metadata": {},
   "source": [
    "# Wikimetrics"
   ]
  },
  {
   "cell_type": "code",
   "execution_count": null,
   "id": "e612b8e2-2850-4765-86f6-4eb6627d2fea",
   "metadata": {},
   "outputs": [],
   "source": [
    "df_m = pd.read_csv('data/wikimetrics.tsv', sep='\\t', encoding='UTF-8')\n",
    "df_m"
   ]
  },
  {
   "cell_type": "code",
   "execution_count": null,
   "id": "0040893d-2dd6-452f-a4ea-28c7dbc927d6",
   "metadata": {},
   "outputs": [],
   "source": [
    "df_lg = pd.read_csv('data/langlinks.tsv', sep='\\t', encoding='UTF-8')\n",
    "df_lg"
   ]
  },
  {
   "cell_type": "code",
   "execution_count": null,
   "id": "4bc571ef-8c17-43a1-a24b-44a6a26f5ecc",
   "metadata": {},
   "outputs": [],
   "source": [
    "df_lg[df_lg.url.duplicated()]"
   ]
  },
  {
   "cell_type": "code",
   "execution_count": null,
   "id": "790fa8dc-534a-4acb-af6e-a3364fd7690e",
   "metadata": {},
   "outputs": [],
   "source": [
    "df_m[df_m['url'].isin(df_lg.url.tolist())]"
   ]
  },
  {
   "cell_type": "code",
   "execution_count": null,
   "id": "82d9e7b3-7550-4118-aa5c-d76526983db0",
   "metadata": {},
   "outputs": [],
   "source": [
    "df_m = df_lg[['id', 'url']].drop_duplicates().merge(df_m, how='inner', on='url')\n",
    "df_m"
   ]
  },
  {
   "cell_type": "code",
   "execution_count": null,
   "id": "dada0d15-0dd9-4ff1-937b-37713eb66476",
   "metadata": {},
   "outputs": [],
   "source": [
    "df_m = df_m[['id', 'editors', 'revisions', 'words', 'unique_references', 'minor_edits', 'characters', 'sections', 'references']]\n",
    "df_m"
   ]
  },
  {
   "cell_type": "code",
   "execution_count": null,
   "id": "109c5e59-77eb-4c51-8441-997ea197733b",
   "metadata": {},
   "outputs": [],
   "source": [
    "df_m = df_m.groupby('id').sum().reset_index()\n",
    "df_m"
   ]
  },
  {
   "cell_type": "code",
   "execution_count": null,
   "id": "81e1eb17-d7e7-4bdc-a566-1f34ad610fb1",
   "metadata": {},
   "outputs": [],
   "source": [
    "df_l = pd.read_csv('data/leiden_wikipedia_indicators.tsv', sep='\\t', encoding='UTF-8')\n",
    "df_l"
   ]
  },
  {
   "cell_type": "code",
   "execution_count": null,
   "id": "0d94d8c4-1ef8-431c-b4ce-22047c7b7477",
   "metadata": {},
   "outputs": [],
   "source": [
    "df_l = df_l.merge(df_m, how='inner', on='id')\n",
    "df_l"
   ]
  },
  {
   "cell_type": "code",
   "execution_count": null,
   "id": "bc03ecc2-3a4d-4a8b-bc6f-e1fe56b3ded0",
   "metadata": {},
   "outputs": [],
   "source": [
    "df_l.to_csv('data/full_leiden_wikipedia_indicators.tsv', sep='\\t', index=False)"
   ]
  }
 ],
 "metadata": {
  "kernelspec": {
   "display_name": "Python 3 (ipykernel)",
   "language": "python",
   "name": "python3"
  },
  "language_info": {
   "codemirror_mode": {
    "name": "ipython",
    "version": 3
   },
   "file_extension": ".py",
   "mimetype": "text/x-python",
   "name": "python",
   "nbconvert_exporter": "python",
   "pygments_lexer": "ipython3",
   "version": "3.9.7"
  }
 },
 "nbformat": 4,
 "nbformat_minor": 5
}
