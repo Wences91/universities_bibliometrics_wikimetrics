{
 "cells": [
  {
   "cell_type": "markdown",
   "id": "a10fb6a3-09e6-4ef4-92de-5a8823a3a7db",
   "metadata": {},
   "source": [
    "## Summary"
   ]
  },
  {
   "cell_type": "markdown",
   "id": "88197dab-7163-456f-8334-5438ab4d8e49",
   "metadata": {},
   "source": [
    "This notebook processes the list of universities in the Leiden Ranking to locate their article in the English Wikipedia and different metadata of the article."
   ]
  },
  {
   "cell_type": "markdown",
   "id": "7e7aebc9-38bd-4873-a388-41448f9a3801",
   "metadata": {},
   "source": [
    "# Packages"
   ]
  },
  {
   "cell_type": "code",
   "execution_count": null,
   "id": "61e1607d-bf6b-4a4a-9515-7c17e4cd92e4",
   "metadata": {},
   "outputs": [],
   "source": [
    "import pandas as pd\n",
    "import urllib\n",
    "import csv\n",
    "import re\n",
    "\n",
    "# To query Wikipedia API\n",
    "import requests\n",
    "import json\n",
    "from requests.packages.urllib3.exceptions import InsecureRequestWarning\n",
    "\n",
    "# To avoid warnings\n",
    "requests.packages.urllib3.disable_warnings(InsecureRequestWarning)"
   ]
  },
  {
   "cell_type": "markdown",
   "id": "812071fc-821d-4acd-9a07-b9b1d9741319",
   "metadata": {},
   "source": [
    "# Leiden Ranking"
   ]
  },
  {
   "cell_type": "markdown",
   "id": "ddffeba8-3017-4efe-9549-27689fba57c0",
   "metadata": {},
   "source": [
    "<div class=\"alert alert-block alert-info\"> <b>More info:</b> <a href=\"https://www.leidenranking.com/ranking/2021/list\">CWTS Leiden Ranking 2021</a> </div>"
   ]
  },
  {
   "cell_type": "markdown",
   "id": "19c642a7-3f4c-4ad6-b2d0-e057444b23cd",
   "metadata": {},
   "source": [
    "Leiden Ranking (2021) includes a total of 1225 universities. This dataset includes their short name and id (it is needed to connect each university to its Wikipedia page)."
   ]
  },
  {
   "cell_type": "code",
   "execution_count": null,
   "id": "2a04f2a3-6400-4dcc-b827-c3c09cfa3289",
   "metadata": {},
   "outputs": [],
   "source": [
    "df_leiden = pd.read_csv('data/leiden_ranking_2021.tsv', sep='\\t')\n",
    "df_leiden"
   ]
  },
  {
   "cell_type": "markdown",
   "id": "95fbc74b-a131-4d59-b421-19d7d387ddb1",
   "metadata": {},
   "source": [
    "## 1.2. GRID"
   ]
  },
  {
   "cell_type": "markdown",
   "id": "e75581ba-0817-47d0-963f-7358f4b1aad8",
   "metadata": {},
   "source": [
    "<div class=\"alert alert-block alert-info\"> <b>More info:</b> <a href=\"https://www.grid.ac/\">GRID</a> </div>"
   ]
  },
  {
   "cell_type": "markdown",
   "id": "3dfa4508-b34d-4e9e-a9c1-0feb6a05fd37",
   "metadata": {},
   "source": [
    "GRID includes a total of 13,158 universities with a link to a Wikipedia page."
   ]
  },
  {
   "cell_type": "code",
   "execution_count": null,
   "id": "a4d7d774-07ff-4a66-a11c-c228923a116b",
   "metadata": {},
   "outputs": [],
   "source": [
    "df_grid = pd.read_csv('data/wikipedia_grid_univ_2021.csv', sep=';')\n",
    "df_grid = df_grid[~df_grid['wikipedia_url'].isna()]\n",
    "df_grid"
   ]
  },
  {
   "cell_type": "markdown",
   "id": "979f2ffb-db24-4848-9bb0-b337b92cf817",
   "metadata": {},
   "source": [
    "Wikipedia URLs are cleaned, English Wikipedia links are selected and the beginning of the URL is removed to obtain the Wikipedia page title."
   ]
  },
  {
   "cell_type": "code",
   "execution_count": null,
   "id": "5da0d5b4-2592-4e97-9e32-1aaffce59c8a",
   "metadata": {},
   "outputs": [],
   "source": [
    "df_grid.wikipedia_url = df_grid.wikipedia_url.str.replace('http://', '', regex=False)\n",
    "df_grid.wikipedia_url = df_grid.wikipedia_url.str.replace('https://', '', regex=False)\n",
    "df_grid = df_grid[df_grid.wikipedia_url.str.startswith('en.wikipedia.org/')].copy()\n",
    "df_grid.wikipedia_url = df_grid.wikipedia_url.str.replace('en.wikipedia.org/wiki/', '', regex=False)"
   ]
  },
  {
   "cell_type": "markdown",
   "id": "8da878c4-74e0-44dc-9cf1-5138ec127eb1",
   "metadata": {},
   "source": [
    "URLs are unquoted to avoid problems when joinning them. There is a total of 13,151 universities with a English Wikipedia page."
   ]
  },
  {
   "cell_type": "code",
   "execution_count": null,
   "id": "dc4f192b-24ba-4139-9756-920b2b314a06",
   "metadata": {},
   "outputs": [],
   "source": [
    "df_grid.wikipedia_url = [urllib.parse.unquote(x) for x in df_grid.wikipedia_url]\n",
    "df_grid"
   ]
  },
  {
   "cell_type": "markdown",
   "id": "0c3a1c70-3436-472b-a272-673d8daca87b",
   "metadata": {},
   "source": [
    "## 1.3. Intermediate table"
   ]
  },
  {
   "cell_type": "markdown",
   "id": "064ac626-e4a1-41c5-95a6-070b5ac7e957",
   "metadata": {},
   "source": [
    "We use an intermediate table to univocally link the Leiden Ranking with the GRID data."
   ]
  },
  {
   "cell_type": "code",
   "execution_count": null,
   "id": "51e8cdb5-5a99-42fc-8e6a-13223dd0e033",
   "metadata": {},
   "outputs": [],
   "source": [
    "df_link = pd.read_csv('data/leiden_grid_2021.csv', sep=';')\n",
    "df_link.wikipedia_url = df_link.wikipedia_url.str.replace('http://', '', regex=False)\n",
    "df_link.wikipedia_url = df_link.wikipedia_url.str.replace('https://', '', regex=False)\n",
    "df_link = df_link[df_link.wikipedia_url.str.startswith('en.wikipedia.org/')].copy()\n",
    "df_link.wikipedia_url = df_link.wikipedia_url.str.replace('en.wikipedia.org/wiki/', '', regex=False)\n",
    "df_link.wikipedia_url = [urllib.parse.unquote(x) for x in df_link.wikipedia_url]"
   ]
  },
  {
   "cell_type": "markdown",
   "id": "974460da-fe2d-45fa-9549-b2610f86d1dd",
   "metadata": {},
   "source": [
    "As we only want GRID table to include the established year we only keep this data. Both tables are joinned by the Wikipedia title. Despite some universities are in both tables they are not joinned due to differences in this field. However, it is the most accurate way to do it."
   ]
  },
  {
   "cell_type": "code",
   "execution_count": null,
   "id": "c8322294-2c92-478a-8a61-7196190545d9",
   "metadata": {
    "scrolled": true
   },
   "outputs": [],
   "source": [
    "df_link_grid = pd.merge(df_link[['id', 'country_iso_num_code', 'wikipedia_url']], df_grid[['wikipedia_url', 'established_year']].drop_duplicates(), how='left', on='wikipedia_url')"
   ]
  },
  {
   "cell_type": "markdown",
   "id": "d5101ad3-8b04-41e5-9dbd-ae558ba81be8",
   "metadata": {},
   "source": [
    "It generates some duplicated institutions. They have the same Wikipedia title."
   ]
  },
  {
   "cell_type": "code",
   "execution_count": null,
   "id": "8bcce79e-bc37-4940-8fff-74d6277dd10c",
   "metadata": {},
   "outputs": [],
   "source": [
    "df_grid[df_grid.wikipedia_url=='Istituto_Superiore_per_le_Industrie_Artistiche']"
   ]
  },
  {
   "cell_type": "markdown",
   "id": "3e8adfa1-47aa-4450-8df4-77cf140fdf4c",
   "metadata": {},
   "source": [
    "Furthermore, there are 9 universities that do not include Wikipedia URL or are not included in GRID, **as is the case with China Univ Petrol E China**."
   ]
  },
  {
   "cell_type": "code",
   "execution_count": null,
   "id": "933b3532-a537-4fdf-8583-590667517da2",
   "metadata": {},
   "outputs": [],
   "source": [
    "df_leiden[~df_leiden['id'].isin(df_link_grid.id)]"
   ]
  },
  {
   "cell_type": "markdown",
   "id": "38df3faf-3868-481c-8941-0316385e03ae",
   "metadata": {},
   "source": [
    "Before fix some errors (duplicates, missing Wikipedia pages...), these datasets are merged."
   ]
  },
  {
   "cell_type": "code",
   "execution_count": null,
   "id": "82a3e578-408f-4c80-bd10-0c5c85b41116",
   "metadata": {
    "scrolled": true
   },
   "outputs": [],
   "source": [
    "df = df_leiden.merge(df_link_grid, how='left', on='id')"
   ]
  },
  {
   "cell_type": "code",
   "execution_count": null,
   "id": "b98ccfb1-3aa8-4ba2-9f10-6149b9de8046",
   "metadata": {},
   "outputs": [],
   "source": [
    "len(df.id.drop_duplicates())"
   ]
  },
  {
   "cell_type": "markdown",
   "id": "b4b839c2-8741-4e40-b271-19d562b97421",
   "metadata": {},
   "source": [
    "# Data cleaning"
   ]
  },
  {
   "cell_type": "markdown",
   "id": "0c68120d-d1e5-4f85-bb52-3ef7770e5d4a",
   "metadata": {},
   "source": [
    "## Duplicated URLs"
   ]
  },
  {
   "cell_type": "markdown",
   "id": "3c54d118-ae46-445b-ab37-72b1907bcd5c",
   "metadata": {},
   "source": [
    "There are 3 pages duplicated (same Wikipedia URL) that need to be fixed manually. This is due to they have more than one established year."
   ]
  },
  {
   "cell_type": "code",
   "execution_count": null,
   "id": "018539a6-1908-49fb-ad7d-c508efe41a00",
   "metadata": {
    "scrolled": true
   },
   "outputs": [],
   "source": [
    "df[(df.wikipedia_url.duplicated()) & (~df.wikipedia_url.isna())]"
   ]
  },
  {
   "cell_type": "markdown",
   "id": "1b14c97d-b82e-4830-9af8-3fb1ff93410f",
   "metadata": {},
   "source": [
    "In all of them, the lower date is maintained."
   ]
  },
  {
   "cell_type": "code",
   "execution_count": null,
   "id": "43cd4296-8a73-4e3c-98d2-154adc695c26",
   "metadata": {},
   "outputs": [],
   "source": [
    "df.loc[df.wikipedia_url=='University_of_Southampton', 'established_year'] = 1952\n",
    "df.loc[df.wikipedia_url=='Carnegie_Mellon_University', 'established_year'] = 1900\n",
    "df.loc[df.wikipedia_url=='Kent_State_University', 'established_year'] = 1910"
   ]
  },
  {
   "cell_type": "code",
   "execution_count": null,
   "id": "01522931-9f78-4305-a921-a8c7da93bcc7",
   "metadata": {},
   "outputs": [],
   "source": [
    "df = df.drop_duplicates().copy()\n",
    "df.shape"
   ]
  },
  {
   "cell_type": "markdown",
   "id": "6a4051b0-2451-4536-ad69-3f859dc04be1",
   "metadata": {},
   "source": [
    "## Missing Wikipedia page"
   ]
  },
  {
   "cell_type": "markdown",
   "id": "c87974ca-4b27-41e0-b5aa-64e73e6de0c1",
   "metadata": {},
   "source": [
    "There are 9 universities without Wikipedia page. They are reviewed and 5 of them are found, the rest are not in the English Wikipedia."
   ]
  },
  {
   "cell_type": "code",
   "execution_count": null,
   "id": "71dca555-97c9-4b77-aa92-2f1c71829006",
   "metadata": {},
   "outputs": [],
   "source": [
    "df[df.wikipedia_url.isnull()]"
   ]
  },
  {
   "cell_type": "code",
   "execution_count": null,
   "id": "41c66354-7e42-403f-9cdc-d4310fa85bf9",
   "metadata": {},
   "outputs": [],
   "source": [
    "df.loc[df.id==9678,'wikipedia_url'] = 'China_University_of_Petroleum'\n",
    "df.loc[df.id==10551,'wikipedia_url'] = 'University_of_Paris'\n",
    "df.loc[df.id==10561,'wikipedia_url'] = 'Grenoble_Alpes_University'\n",
    "df.loc[df.id==19006,'wikipedia_url'] = 'Clermont_Auvergne_University'\n",
    "df.loc[df.id==33166,'wikipedia_url'] = 'University_of_Health_Sciences_(Turkey)'"
   ]
  },
  {
   "cell_type": "markdown",
   "id": "53144973-8910-4e6d-9988-98db3bfa267b",
   "metadata": {},
   "source": [
    "The rest are removed from the dataset."
   ]
  },
  {
   "cell_type": "code",
   "execution_count": null,
   "id": "fb7e7338-3bcc-44f6-b251-16a81ed52a0a",
   "metadata": {},
   "outputs": [],
   "source": [
    "df = df[~df.wikipedia_url.isnull()].copy()\n",
    "df"
   ]
  },
  {
   "cell_type": "markdown",
   "id": "33b69190-4457-4062-b26d-0176af5c2185",
   "metadata": {},
   "source": [
    "## URLs to sections"
   ]
  },
  {
   "cell_type": "markdown",
   "id": "3757221f-c009-4605-b12a-1ce5ce8efa38",
   "metadata": {},
   "source": [
    "There are two Wikipedia pages URLs that are hyperlinks to specific page sections, both of them are fixed."
   ]
  },
  {
   "cell_type": "code",
   "execution_count": null,
   "id": "ccc661ba-9aa9-429c-ab5a-54f29f08e8d3",
   "metadata": {},
   "outputs": [],
   "source": [
    "df[df.wikipedia_url.str.contains('#', regex=False)]"
   ]
  },
  {
   "cell_type": "code",
   "execution_count": null,
   "id": "f99eaa22-9c66-48e2-b69a-3790187696ad",
   "metadata": {},
   "outputs": [],
   "source": [
    "df.loc[df.id==1371,'wikipedia_url'] = 'Higher_School_of_Economics'\n",
    "df.loc[df.id==9596,'wikipedia_url'] = 'Renmin_University_of_China'"
   ]
  },
  {
   "cell_type": "markdown",
   "id": "a05d53d5-ca02-4413-9182-80198e748f5f",
   "metadata": {},
   "source": [
    "## Final check"
   ]
  },
  {
   "cell_type": "markdown",
   "id": "25bdf8ce-35a2-43c0-a613-bf8f35ffbe75",
   "metadata": {},
   "source": [
    "Let's go to check if the same Wikipedia page appears twice after the previous changes."
   ]
  },
  {
   "cell_type": "code",
   "execution_count": null,
   "id": "a04092ab-520e-4a98-ac18-0e55c4c0b850",
   "metadata": {},
   "outputs": [],
   "source": [
    "df[df.wikipedia_url.duplicated()]"
   ]
  },
  {
   "cell_type": "markdown",
   "id": "dea943fb-6dd2-4b62-b716-b179f11ba5b1",
   "metadata": {},
   "source": [
    "There is only one case, but it is fine as this Wikipedia page includes information about the two."
   ]
  },
  {
   "cell_type": "code",
   "execution_count": null,
   "id": "f1c51d37-d884-4e8a-b3de-b2767edf7895",
   "metadata": {},
   "outputs": [],
   "source": [
    "df[df.wikipedia_url=='China_University_of_Petroleum']"
   ]
  },
  {
   "cell_type": "markdown",
   "id": "eed7e894-0c7b-4643-9be1-843c566ecaa5",
   "metadata": {},
   "source": [
    "# Wikipedia data"
   ]
  },
  {
   "cell_type": "markdown",
   "id": "b986fe77-31d6-4879-904c-a00fd8d103ac",
   "metadata": {},
   "source": [
    "Wikipedia pages (from [Wikipedia Knowledge Graph](https://doi.org/10.5281/zenodo.6346900)) dataset is imported and reduced to only article pages."
   ]
  },
  {
   "cell_type": "code",
   "execution_count": null,
   "id": "1fd3dd1a-1e12-4ba7-b83c-c4cb9fd7e614",
   "metadata": {},
   "outputs": [],
   "source": [
    "df_wiki = pd.read_csv('data/page.tsv', sep='\\t', quoting=csv.QUOTE_NONE)\n",
    "df_wiki = df_wiki[df_wiki['namespace']==0].copy()\n",
    "df_wiki"
   ]
  },
  {
   "cell_type": "markdown",
   "id": "86f50227-45e2-4694-a30a-d05909750dc0",
   "metadata": {},
   "source": [
    "As some of them don't include the title they are removed."
   ]
  },
  {
   "cell_type": "code",
   "execution_count": null,
   "id": "4fb9a4a9-8922-409f-9c36-ad5170156fd0",
   "metadata": {},
   "outputs": [],
   "source": [
    "df_wiki = df_wiki[~df_wiki.title.isna()].copy()"
   ]
  },
  {
   "cell_type": "markdown",
   "id": "d74e9987-e8d2-45ab-9e29-2de564426daf",
   "metadata": {},
   "source": [
    "1219 university pages are found in the Wikipedia dataset (one is duplicated)."
   ]
  },
  {
   "cell_type": "code",
   "execution_count": null,
   "id": "6ac26f3a-b2ba-4f98-9fd9-c43b66c5881f",
   "metadata": {},
   "outputs": [],
   "source": [
    "df_wiki[df_wiki.title.isin(df.wikipedia_url)]"
   ]
  },
  {
   "cell_type": "markdown",
   "id": "7bb790da-772a-4660-a288-bb9fa72d9c61",
   "metadata": {},
   "source": [
    "<div class=\"alert alert-block alert-warning\"> JiLin Agr Univ Wikipedia page was removed in 2015 (<a href=\"https://en.wikipedia.org/w/index.php?title=Special:Log&logid=67775234\">More info</a>) </div>"
   ]
  },
  {
   "cell_type": "markdown",
   "id": "87e33a69-00bd-4504-8337-9414e53c51e3",
   "metadata": {},
   "source": [
    "However, there is one page that is not available anymore, so it is removed and the dataset is now reduced."
   ]
  },
  {
   "cell_type": "code",
   "execution_count": null,
   "id": "51a740f0-83d9-4c5c-9eb5-078cf4f7829a",
   "metadata": {},
   "outputs": [],
   "source": [
    "df[~df.wikipedia_url.isin(df_wiki.title)]"
   ]
  },
  {
   "cell_type": "code",
   "execution_count": null,
   "id": "efdf44c2-ea22-415c-b825-66f5169c66d9",
   "metadata": {},
   "outputs": [],
   "source": [
    "df = df[df.wikipedia_url.isin(df_wiki.title)].copy()\n",
    "df"
   ]
  },
  {
   "cell_type": "markdown",
   "id": "2b2bf489-e850-4003-9859-1636b0c4624c",
   "metadata": {},
   "source": [
    "## Redirects"
   ]
  },
  {
   "cell_type": "markdown",
   "id": "b97a9b84-10b6-4e06-bb9e-bba0957b59b1",
   "metadata": {},
   "source": [
    "141 university pages are redirects, so we need to fix these links using the Wikipedia API."
   ]
  },
  {
   "cell_type": "code",
   "execution_count": null,
   "id": "dd010fe8-b81b-48cd-bf5e-5e72ecbb7856",
   "metadata": {},
   "outputs": [],
   "source": [
    "redirects = pd.DataFrame({'from':df_wiki[(df_wiki['is_redirect']==1) & (df_wiki.title.isin(df.wikipedia_url))]['page_id'],\n",
    "                          'to':None})\n",
    "redirects"
   ]
  },
  {
   "cell_type": "code",
   "execution_count": null,
   "id": "d03ff552-2b42-4470-9d6a-363b17b0b606",
   "metadata": {},
   "outputs": [],
   "source": [
    "count = 0\n",
    "for i in redirects['from'].tolist():\n",
    "    count+=1\n",
    "    print(round(100*count/redirects.shape[0], 2), end='\\r')\n",
    "    url = 'https://en.wikipedia.org/w/api.php?action=query&format=json&redirects&pageids=' + str(i)\n",
    "    query = requests.get(url, verify=False)\n",
    "    response = json.loads(query.text)\n",
    "    redirects.loc[redirects['from']==i,'to'] = int(list(response['query']['pages'].keys())[0])"
   ]
  },
  {
   "cell_type": "code",
   "execution_count": null,
   "id": "b9acdcba-9ec4-42bb-b17c-7493e9c8dff2",
   "metadata": {},
   "outputs": [],
   "source": [
    "redirects"
   ]
  },
  {
   "cell_type": "markdown",
   "id": "0ff99df3-0497-41ba-ac47-102407a13b3b",
   "metadata": {},
   "source": [
    "There is a problem with one redirect."
   ]
  },
  {
   "cell_type": "code",
   "execution_count": null,
   "id": "778e3311-01e8-4aad-9397-efb4eee49636",
   "metadata": {},
   "outputs": [],
   "source": [
    "redirects[redirects['from'] == redirects['to']]"
   ]
  },
  {
   "cell_type": "markdown",
   "id": "bbff399b-fa97-4db9-b3cb-ea824374cfea",
   "metadata": {},
   "source": [
    "After looking for more information in Wikipedia it is found that the real page is 1714346."
   ]
  },
  {
   "cell_type": "code",
   "execution_count": null,
   "id": "c0607120-7caf-4a5f-bcf6-0e31cbdc7441",
   "metadata": {},
   "outputs": [],
   "source": [
    "df_wiki[df_wiki.page_id==66560028]"
   ]
  },
  {
   "cell_type": "code",
   "execution_count": null,
   "id": "dcfedaec-269b-47f9-8e53-0155a61802c0",
   "metadata": {},
   "outputs": [],
   "source": [
    "df_wiki[df_wiki.page_id==1714346]"
   ]
  },
  {
   "cell_type": "code",
   "execution_count": null,
   "id": "233caa55-56f5-4d28-aa08-4bcf18775d8e",
   "metadata": {},
   "outputs": [],
   "source": [
    "redirects.loc[redirects['from'] == 66560028, 'to'] = 1714346"
   ]
  },
  {
   "cell_type": "markdown",
   "id": "7fb0d632-5dd6-4495-8aa6-05e609a8e850",
   "metadata": {},
   "source": [
    "Before solving this problem both datasets are joinned."
   ]
  },
  {
   "cell_type": "code",
   "execution_count": null,
   "id": "4dc81f96-2e32-43ea-a7e2-7f6ffaf5dc0b",
   "metadata": {},
   "outputs": [],
   "source": [
    "df = df[['id', 'university', 'country_iso_num_code', 'wikipedia_url', 'established_year']].merge(df_wiki, how='inner', left_on='wikipedia_url', right_on='title')\n",
    "df"
   ]
  },
  {
   "cell_type": "markdown",
   "id": "e57c1a27-bb98-41d9-9dd6-32394e24dd9b",
   "metadata": {},
   "source": [
    "### Final check"
   ]
  },
  {
   "cell_type": "markdown",
   "id": "8658976a-dec6-459c-91e8-f8474f36cf65",
   "metadata": {},
   "source": [
    "The length of Wikipedia pages that are not redirect are checked to identify more problematic ones."
   ]
  },
  {
   "cell_type": "code",
   "execution_count": null,
   "id": "f7b2bc22-09c9-4141-9fb1-7a148e896e1a",
   "metadata": {},
   "outputs": [],
   "source": [
    "df[~df.page_id.isin(redirects['from'])].sort_values(by='len', ascending=True)[['wikipedia_url', 'len']].head(5)"
   ]
  },
  {
   "cell_type": "markdown",
   "id": "6adc6ffc-2803-4e1f-b2ef-0f58bbfc43d8",
   "metadata": {},
   "source": [
    "This is the case of `China University of Geosciences`. It is a disambiguation page. The real one is `China_University_of_Geosciences_(Wuhan)`."
   ]
  },
  {
   "cell_type": "code",
   "execution_count": null,
   "id": "26dfc921-7918-48b9-9d16-2b0035560b5f",
   "metadata": {},
   "outputs": [],
   "source": [
    "df_wiki[df_wiki['page_id']==60119299]"
   ]
  },
  {
   "cell_type": "markdown",
   "id": "74c06d19-416d-4f72-ba0c-50711339197a",
   "metadata": {},
   "source": [
    "This problem will be solved with the other redirects."
   ]
  },
  {
   "cell_type": "code",
   "execution_count": null,
   "id": "346ae7c7-e097-4da6-aa74-0bf7b3720eac",
   "metadata": {},
   "outputs": [],
   "source": [
    "redirects = pd.concat([redirects, pd.DataFrame(data={'from':[60119299], 'to':[2790409]})])"
   ]
  },
  {
   "cell_type": "markdown",
   "id": "54d442fe-153e-4f4f-ade6-ef5ee9f523ce",
   "metadata": {},
   "source": [
    "Redirects are fixed."
   ]
  },
  {
   "cell_type": "code",
   "execution_count": null,
   "id": "2de7f4fb-4f3c-4b1e-adf7-ca475959710a",
   "metadata": {},
   "outputs": [],
   "source": [
    "for i in redirects['from'].tolist():\n",
    "    df.loc[df['page_id']==i, df_wiki.columns.tolist()] = df_wiki[df_wiki['page_id']==int(redirects.loc[redirects['from']==i,'to'].values[0])].values.flatten().tolist()"
   ]
  },
  {
   "cell_type": "markdown",
   "id": "c35d84b8-cba4-4b35-af82-9e8100d903cc",
   "metadata": {},
   "source": [
    "Data looks fine."
   ]
  },
  {
   "cell_type": "code",
   "execution_count": null,
   "id": "eb32c366-8e6e-4f3d-81e2-ef5f234f5813",
   "metadata": {},
   "outputs": [],
   "source": [
    "df.sort_values(by='len', ascending=True)[['wikipedia_url', 'len']].head(5)"
   ]
  },
  {
   "cell_type": "code",
   "execution_count": null,
   "id": "dfc56e48-e6db-47a3-a56a-9bfd89710732",
   "metadata": {},
   "outputs": [],
   "source": [
    "df.to_csv('data/base_leiden.tsv', index=False, sep='\\t')"
   ]
  },
  {
   "cell_type": "markdown",
   "id": "3b51a07c-3940-44ce-a533-8da9e5d5af64",
   "metadata": {},
   "source": [
    "## Language links"
   ]
  },
  {
   "cell_type": "markdown",
   "id": "04e3c48d-930b-4e89-a9b7-0509074c7677",
   "metadata": {},
   "source": [
    "The number of language links is retrieved by Wikipedia API as well as the URL. To do it a new variable and `data.frame` are created."
   ]
  },
  {
   "cell_type": "code",
   "execution_count": null,
   "id": "966c0a41-d9c6-4e05-8d00-eb54c21457d1",
   "metadata": {},
   "outputs": [],
   "source": [
    "df['langlinks'] = 0\n",
    "langlinks = pd.DataFrame(columns={'id', 'university','lang', 'url'})"
   ]
  },
  {
   "cell_type": "code",
   "execution_count": null,
   "id": "9a3caab0-a7b7-4012-af50-0616590ad243",
   "metadata": {},
   "outputs": [],
   "source": [
    "count=0\n",
    "for i in range(len(df)):\n",
    "    count+=1\n",
    "    print(round(100*count/df.shape[0],2), end='\\r')\n",
    "    url = 'https://en.wikipedia.org/w/api.php?action=query&prop=langlinks&format=json&lllimit=max&llprop=url&pageids=' + str(df['page_id'].tolist()[i])\n",
    "    query = requests.get(url, verify=False)\n",
    "    response = json.loads(query.text)\n",
    "    \n",
    "    # English Wikipedia (title from Wikipedia dataset is used)\n",
    "    langlinks.loc[len(langlinks)] = pd.Series({'id':df['id'].tolist()[i], 'university':df['university'].tolist()[i], 'lang':'en', 'url':'https://en.wikipedia.org/wiki/'+df['title'].tolist()[i] })\n",
    "    \n",
    "    # Other languages\n",
    "    if ('langlinks' in response['query']['pages'][str(df['page_id'].tolist()[i])]):\n",
    "        df.loc[df['page_id']==df['page_id'].tolist()[i],'langlinks'] = len(response['query']['pages'][str(df['page_id'].tolist()[i])]['langlinks'])\n",
    "        for i_l in response['query']['pages'][str(df['page_id'].tolist()[i])]['langlinks']:\n",
    "            langlinks.loc[len(langlinks)] = pd.Series({'id':df['id'].tolist()[i], 'university':df['university'].tolist()[i], 'lang':i_l['lang'], 'url':urllib.parse.unquote(i_l['url'])})\n",
    "    else:\n",
    "        df.loc[df['page_id']==df['page_id'].tolist()[i],'langlinks'] = 0"
   ]
  },
  {
   "cell_type": "code",
   "execution_count": null,
   "id": "99003b7c-ab3c-4184-adcc-066da001e515",
   "metadata": {},
   "outputs": [],
   "source": [
    "langlinks[langlinks.url.duplicated()]"
   ]
  },
  {
   "cell_type": "code",
   "execution_count": null,
   "id": "a2143fa5-82d1-4e27-b3e7-73629cc0a80b",
   "metadata": {},
   "outputs": [],
   "source": [
    "langlinks[langlinks.url=='https://mk.wikipedia.org/wiki/Универзитет_Богазичи']"
   ]
  },
  {
   "cell_type": "code",
   "execution_count": null,
   "id": "ee27b8b7-3c47-43d4-84c3-978f9f0accd9",
   "metadata": {},
   "outputs": [],
   "source": [
    "langlinks[~langlinks.url.isin(wikidata.url)].url.tolist()"
   ]
  },
  {
   "cell_type": "code",
   "execution_count": null,
   "id": "80aa6278-dcea-4750-af62-eb8fb77081b2",
   "metadata": {},
   "outputs": [],
   "source": [
    "wikidata[~wikidata.url.isin(langlinks.url)]"
   ]
  },
  {
   "cell_type": "code",
   "execution_count": null,
   "id": "52afe793-0dba-4cce-9ca7-da2f3711f3af",
   "metadata": {},
   "outputs": [],
   "source": [
    "wikidata[~wikidata.url.isin(langlinks.url)].url.tolist()"
   ]
  },
  {
   "cell_type": "code",
   "execution_count": null,
   "id": "825e967e-878b-4a6e-abe5-8d6469bfb90c",
   "metadata": {},
   "outputs": [],
   "source": [
    "langlinks.to_csv('data/langlinks.tsv', sep='\\t', index=False)"
   ]
  },
  {
   "cell_type": "code",
   "execution_count": null,
   "id": "e9de8b83-f5fa-4966-86e7-17067f85e0c9",
   "metadata": {},
   "outputs": [],
   "source": [
    "wikidata = pd.DataFrame(columns={'url', 'watchers', 'revisions', 'minor_edits', 'editors', 'author', 'created_at', 'assessment',\n",
    "                                 'characters', 'words', 'references', 'unique_references', 'sections'})"
   ]
  },
  {
   "cell_type": "code",
   "execution_count": null,
   "id": "138b5b2d-bd76-4edd-b1a6-67b5446c7104",
   "metadata": {},
   "outputs": [],
   "source": [
    "count=0\n",
    "for i in langlinks['url']:\n",
    "    count+=1\n",
    "    print(round(100*count/langlinks.shape[0],2), end='\\r')\n",
    "    \n",
    "    try:\n",
    "        url_info = 'https://xtools.wmflabs.org/api/page/articleinfo/' + re.sub('https://|/wiki', '', i)\n",
    "        query_info = requests.get(url_info, verify=False)\n",
    "        response_info = json.loads(query_info.text)\n",
    "\n",
    "        url_prose = 'https://xtools.wmflabs.org/api/page/prose/' + re.sub('https://|/wiki', '', i)\n",
    "        query_prose = requests.get(url_prose, verify=False)\n",
    "        response_prose = json.loads(query_prose.text)\n",
    "\n",
    "        if(response_info['assessment']):\n",
    "            assessment = response_info['assessment']['value']\n",
    "        else:\n",
    "            assessment = None\n",
    "\n",
    "        wikidata.loc[len(wikidata)] = pd.Series({'url':i,\n",
    "                                                 'watchers':response_info['watchers'],\n",
    "                                                 'revisions':response_info['revisions'],\n",
    "                                                 'minor_edits':response_info['minor_edits'],\n",
    "                                                 'editors':response_info['editors'],\n",
    "                                                 'author':response_info['author'],\n",
    "                                                 'created_at':response_info['created_at'],\n",
    "                                                 'assessment':assessment,\n",
    "                                                 'characters':response_prose['characters'],\n",
    "                                                 'words':response_prose['words'],\n",
    "                                                 'references':response_prose['references'],\n",
    "                                                 'unique_references':response_prose['unique_references'],\n",
    "                                                 'sections':response_prose['sections']})\n",
    "    except:\n",
    "        print('Error: '+ i)\n",
    "    "
   ]
  },
  {
   "cell_type": "code",
   "execution_count": null,
   "id": "4f65984e-3d39-43fe-889f-4af738b529c1",
   "metadata": {},
   "outputs": [],
   "source": [
    "wikidata_fix = pd.read_csv('fixerrors.tsv', sep='\\t')\n",
    "wikidata_fix"
   ]
  },
  {
   "cell_type": "code",
   "execution_count": null,
   "id": "bf6f30fb-0a52-48fe-926e-476e17a25c05",
   "metadata": {},
   "outputs": [],
   "source": [
    "wikidata[wikidata.url.isin(wikidata_fix.url)]"
   ]
  },
  {
   "cell_type": "code",
   "execution_count": null,
   "id": "83552a1b-0b60-494e-9dfe-1abc67cf53c9",
   "metadata": {},
   "outputs": [],
   "source": [
    "wikidata = pd.concat([wikidata, wikidata_fix]).drop_duplicates()\n",
    "wikidata"
   ]
  },
  {
   "cell_type": "code",
   "execution_count": null,
   "id": "2bdb9d0f-34ef-49be-a257-53aa8287cad0",
   "metadata": {},
   "outputs": [],
   "source": [
    "wikidata[wikidata.url.isin(langlinks.url)]"
   ]
  },
  {
   "cell_type": "code",
   "execution_count": null,
   "id": "2c1b3717-4043-418f-a578-2881f945119f",
   "metadata": {},
   "outputs": [],
   "source": [
    "langlinks[langlinks.url.isin(wikidata.url)]"
   ]
  },
  {
   "cell_type": "code",
   "execution_count": null,
   "id": "c46decc1-846a-4a4c-a4a7-4736cb07b726",
   "metadata": {},
   "outputs": [],
   "source": [
    "langlinks[~langlinks.url.isin(wikidata.url)]"
   ]
  },
  {
   "cell_type": "code",
   "execution_count": null,
   "id": "3a35459e-3623-4c8c-b1d9-9ae627a16e4d",
   "metadata": {},
   "outputs": [],
   "source": [
    "wikidata.to_csv('data/wikimetrics.tsv', sep='\\t', index=False)"
   ]
  },
  {
   "cell_type": "markdown",
   "id": "90530644-978b-4d5e-8ae8-84fc6a92b45f",
   "metadata": {},
   "source": [
    "### Views"
   ]
  },
  {
   "cell_type": "code",
   "execution_count": null,
   "id": "9ca68756-5b59-439d-b7e9-2f2bbe088582",
   "metadata": {},
   "outputs": [],
   "source": [
    "url_main = 'https://wikimedia.org/api/rest_v1/metrics/pageviews/per-article/en.wikipedia/all-access/all-agents/Main/monthly/2015010100/2022070100'\n",
    "query_main = requests.get(url_main, verify=False, headers = {'User-Agent': 'Mozilla/5.0 (Windows NT 10.0; Win64; x64)'})\n",
    "response_main = json.loads(query_main.text)"
   ]
  },
  {
   "cell_type": "code",
   "execution_count": null,
   "id": "1ef6de7d-f351-4b45-b5be-47b2da92b3e1",
   "metadata": {},
   "outputs": [],
   "source": [
    "df_views = pd.DataFrame({'university':wikidata.url})\n",
    "df_views"
   ]
  },
  {
   "cell_type": "code",
   "execution_count": null,
   "id": "85826bd8-6046-45b4-85f2-c72de7e2ca73",
   "metadata": {},
   "outputs": [],
   "source": [
    "for x in response_main['items']:\n",
    "    df_views[x['timestamp']] = None"
   ]
  },
  {
   "cell_type": "code",
   "execution_count": null,
   "id": "0a5a4f41-6acc-47a9-8350-d6ec9ebe07a4",
   "metadata": {},
   "outputs": [],
   "source": [
    "count=0\n",
    "for i in wikidata['url']:\n",
    "    count+=1\n",
    "    print(round(100*count/wikidata.shape[0],2), end='\\r')\n",
    "    \n",
    "    try:\n",
    "        url_views = 'https://wikimedia.org/api/rest_v1/metrics/pageviews/per-article/' + re.sub('https://|\\..*', '', i) + '.wikipedia/all-access/user/' + re.sub('.*org/wiki/', '', i) + '/monthly/2015010100/2022070100'\n",
    "        query_views = requests.get(url_views, verify=False, headers = {'User-Agent': 'Mozilla/5.0 (Windows NT 10.0; Win64; x64)'})\n",
    "        response_views = json.loads(query_views.text)\n",
    "        \n",
    "        for x in response_views['items']:\n",
    "            df_views.loc[df_views.university==i,x['timestamp']] = x['views']\n",
    "        \n",
    "    except:\n",
    "        print('Error: '+ i)\n",
    "    "
   ]
  },
  {
   "cell_type": "code",
   "execution_count": null,
   "id": "1067a30b-be11-4788-bff6-28573c470481",
   "metadata": {},
   "outputs": [],
   "source": [
    "url_views = 'https://wikimedia.org/api/rest_v1/metrics/pageviews/per-article/ceb.wikipedia/all-access/user/Vrije_Universiteit_Brussel_%2F_Campus_Etterbeek/monthly/2015010100/2022070100'\n",
    "query_views = requests.get(url_views, verify=False, headers = {'User-Agent': 'Mozilla/5.0 (Windows NT 10.0; Win64; x64)'})\n",
    "response_views = json.loads(query_views.text)\n",
    "\n",
    "for x in response_views['items']:\n",
    "    df_views.loc[df_views.university=='https://ceb.wikipedia.org/wiki/Vrije_Universiteit_Brussel_/_Campus_Etterbeek',x['timestamp']] = x['views']"
   ]
  },
  {
   "cell_type": "code",
   "execution_count": null,
   "id": "2cfdc02b-bb87-4823-b9c8-3ef7b9eaaae4",
   "metadata": {},
   "outputs": [],
   "source": [
    "df_views.to_csv('page/views.tsv', sep='\\t', index=False)"
   ]
  }
 ],
 "metadata": {
  "kernelspec": {
   "display_name": "Python 3 (ipykernel)",
   "language": "python",
   "name": "python3"
  },
  "language_info": {
   "codemirror_mode": {
    "name": "ipython",
    "version": 3
   },
   "file_extension": ".py",
   "mimetype": "text/x-python",
   "name": "python",
   "nbconvert_exporter": "python",
   "pygments_lexer": "ipython3",
   "version": "3.9.7"
  }
 },
 "nbformat": 4,
 "nbformat_minor": 5
}
