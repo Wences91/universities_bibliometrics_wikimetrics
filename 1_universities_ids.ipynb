{
 "cells": [
  {
   "cell_type": "markdown",
   "id": "1c65a688-275e-4761-a83c-46a42dad6464",
   "metadata": {},
   "source": [
    "## Summary"
   ]
  },
  {
   "cell_type": "markdown",
   "id": "d922788d-29c1-4d0e-a802-c418fd9c5ef1",
   "metadata": {},
   "source": [
    "This notebook extracts the list and identifiers of universities from the Leiden Ranking 2021."
   ]
  },
  {
   "cell_type": "markdown",
   "id": "c88543e5-ef24-4095-b775-b9a5b4dd735f",
   "metadata": {},
   "source": [
    "# Packages"
   ]
  },
  {
   "cell_type": "code",
   "execution_count": null,
   "id": "0bb5c4c3",
   "metadata": {},
   "outputs": [],
   "source": [
    "import pandas as pd"
   ]
  },
  {
   "cell_type": "markdown",
   "id": "87be54db",
   "metadata": {},
   "source": [
    "## Leiden Ranking"
   ]
  },
  {
   "cell_type": "markdown",
   "id": "bba02564",
   "metadata": {},
   "source": [
    "<div class=\"alert alert-block alert-info\"> <b>More info:</b> <a href=\"https://www.leidenranking.com/ranking/2021/list\">CWTS Leiden Ranking 2021</a> </div>"
   ]
  },
  {
   "cell_type": "markdown",
   "id": "6fb7563f",
   "metadata": {},
   "source": [
    "Leiden Ranking (2021) includes a total of 1225 universities. This dataset includes their short name and id (it is needed to link each university to its Wikipedia page)."
   ]
  },
  {
   "cell_type": "code",
   "execution_count": null,
   "id": "41057c7b",
   "metadata": {},
   "outputs": [],
   "source": [
    "df_leiden = pd.read_csv('data/leiden_ranking_2021.tsv', sep='\\t')\n",
    "df_leiden"
   ]
  },
  {
   "cell_type": "markdown",
   "id": "04901cf8",
   "metadata": {},
   "source": [
    "There are 1225 universities and their name are unique."
   ]
  },
  {
   "cell_type": "code",
   "execution_count": null,
   "id": "5a6ad672",
   "metadata": {},
   "outputs": [],
   "source": [
    "len(df_leiden.university.drop_duplicates())"
   ]
  },
  {
   "cell_type": "markdown",
   "id": "0c898152",
   "metadata": {},
   "source": [
    "The full dataset include the full name among a large amount of indicators, however it doesn't include the university id. This dataset is reduced to only data for the 2016-2019 period."
   ]
  },
  {
   "cell_type": "code",
   "execution_count": null,
   "id": "e97d1c09-8e73-42bb-b811-7f362a919128",
   "metadata": {},
   "outputs": [],
   "source": [
    "df_leiden_total = pd.read_csv('data/CWTS_leiden_ranking_2021.csv', sep=';')\n",
    "df_leiden_total = df_leiden_total[(df_leiden_total.Field=='All sciences') & (df_leiden_total.Period=='2016–2019')]\n",
    "df_leiden_total"
   ]
  },
  {
   "cell_type": "markdown",
   "id": "6a2d8353",
   "metadata": {},
   "source": [
    "Then only total values are selected."
   ]
  },
  {
   "cell_type": "code",
   "execution_count": null,
   "id": "42d2781f-78ee-45cc-93ba-28aba694ecd0",
   "metadata": {},
   "outputs": [],
   "source": [
    "df_leiden_total = df_leiden_total[df_leiden_total.Frac_counting==0]\n",
    "df_leiden_total"
   ]
  },
  {
   "cell_type": "markdown",
   "id": "7b90de96",
   "metadata": {},
   "source": [
    "There is a total of 1225 unique universities."
   ]
  },
  {
   "cell_type": "code",
   "execution_count": null,
   "id": "b91c5cc8",
   "metadata": {},
   "outputs": [],
   "source": [
    "len(df_leiden_total.University.drop_duplicates())"
   ]
  },
  {
   "cell_type": "markdown",
   "id": "dd034062",
   "metadata": {},
   "source": [
    "As the universities cannot be linked by the name (short/full) the number of publications and collaborations are used."
   ]
  },
  {
   "cell_type": "code",
   "execution_count": null,
   "id": "1af55564-c4b7-4848-95a8-43aef79d54b9",
   "metadata": {},
   "outputs": [],
   "source": [
    "df_leiden_total[['impact_P', 'P_collab']].drop_duplicates()"
   ]
  },
  {
   "cell_type": "markdown",
   "id": "2048aabb",
   "metadata": {},
   "source": [
    "A new `data.frame` is created with the id, full name and short name of the universities."
   ]
  },
  {
   "cell_type": "code",
   "execution_count": null,
   "id": "09139072-6dd3-40a6-9c57-cbd5b7a70e77",
   "metadata": {},
   "outputs": [],
   "source": [
    "id_table = df_leiden.merge(df_leiden_total, how='inner', left_on=['publications', 'collaboration'], right_on=['impact_P', 'P_collab'])[['id', 'University', 'university']]\n",
    "id_table"
   ]
  },
  {
   "cell_type": "markdown",
   "id": "e06a596e",
   "metadata": {},
   "source": [
    "Finally, it is exported."
   ]
  },
  {
   "cell_type": "code",
   "execution_count": null,
   "id": "6f007278-7678-4b06-87dc-1bd6df4ce10e",
   "metadata": {},
   "outputs": [],
   "source": [
    "id_table.to_csv('data/universities_ids.tsv', sep='\\t', index=False)"
   ]
  }
 ],
 "metadata": {
  "kernelspec": {
   "display_name": "Python 3 (ipykernel)",
   "language": "python",
   "name": "python3"
  },
  "language_info": {
   "codemirror_mode": {
    "name": "ipython",
    "version": 3
   },
   "file_extension": ".py",
   "mimetype": "text/x-python",
   "name": "python",
   "nbconvert_exporter": "python",
   "pygments_lexer": "ipython3",
   "version": "3.9.7"
  }
 },
 "nbformat": 4,
 "nbformat_minor": 5
}
