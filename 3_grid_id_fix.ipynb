{
 "cells": [
  {
   "cell_type": "markdown",
   "id": "8471fe6f-6b98-4f13-8c4a-e3ccb3baf979",
   "metadata": {
    "tags": []
   },
   "source": [
    "## Summary"
   ]
  },
  {
   "cell_type": "markdown",
   "id": "ee459075-5432-4b3c-b2f9-9b3834846c15",
   "metadata": {},
   "source": [
    "This notebook links the GRID id for each university in the Leiden Ranking."
   ]
  },
  {
   "cell_type": "markdown",
   "id": "87f80332-d4cd-45e4-a58f-a51ac3f18fbd",
   "metadata": {},
   "source": [
    "# Packages"
   ]
  },
  {
   "cell_type": "code",
   "execution_count": null,
   "id": "fc705ff7-3dd7-4711-8084-315915398450",
   "metadata": {},
   "outputs": [],
   "source": [
    "import pandas as pd\n",
    "import urllib"
   ]
  },
  {
   "cell_type": "markdown",
   "id": "7c79903d-9933-4c2f-90b7-a9c0fefad2f0",
   "metadata": {},
   "source": [
    "# GRID"
   ]
  },
  {
   "cell_type": "code",
   "execution_count": null,
   "id": "4f91b2d4-aacd-40e8-a5e5-e8d5e77a14b5",
   "metadata": {},
   "outputs": [],
   "source": [
    "df_grid_dimensions = pd.read_csv('data/pubs_grid.tsv', sep='\\t')\n",
    "df_grid_dimensions = df_grid_dimensions.rename(columns={'(No column name)':'publications'})\n",
    "df_grid_dimensions"
   ]
  },
  {
   "cell_type": "markdown",
   "id": "f034b600-09b6-441d-9cf5-0e531bf1c843",
   "metadata": {},
   "source": [
    "# Wikipedia"
   ]
  },
  {
   "cell_type": "code",
   "execution_count": null,
   "id": "4e2af335-ea53-4ee0-b867-d171ea26284d",
   "metadata": {},
   "outputs": [],
   "source": [
    "df_grid = pd.read_csv('data/wikipedia_grid_univ_2021.csv', sep=';')\n",
    "df_grid = df_grid[~df_grid['wikipedia_url'].isna()]\n",
    "df_grid"
   ]
  },
  {
   "cell_type": "code",
   "execution_count": null,
   "id": "f0839d88-03be-48a2-9934-939598c1c7b3",
   "metadata": {},
   "outputs": [],
   "source": [
    "df_grid.wikipedia_url = df_grid.wikipedia_url.str.replace('http://', '', regex=False)\n",
    "df_grid.wikipedia_url = df_grid.wikipedia_url.str.replace('https://', '', regex=False)\n",
    "df_grid = df_grid[df_grid.wikipedia_url.str.startswith('en.wikipedia.org/')].copy()\n",
    "df_grid.wikipedia_url = df_grid.wikipedia_url.str.replace('en.wikipedia.org/wiki/', '', regex=False)"
   ]
  },
  {
   "cell_type": "code",
   "execution_count": null,
   "id": "e19b37aa-02b2-4fad-8190-1af4f4874be3",
   "metadata": {},
   "outputs": [],
   "source": [
    "df_grid.wikipedia_url = [urllib.parse.unquote(x) for x in df_grid.wikipedia_url]\n",
    "df_grid"
   ]
  },
  {
   "cell_type": "code",
   "execution_count": null,
   "id": "ac37dbf4-6243-4336-98c7-0ed9a3bdd070",
   "metadata": {},
   "outputs": [],
   "source": [
    "df_link = pd.read_csv('data/leiden_grid_2021.csv', sep=';')\n",
    "df_link.wikipedia_url = df_link.wikipedia_url.str.replace('http://', '', regex=False)\n",
    "df_link.wikipedia_url = df_link.wikipedia_url.str.replace('https://', '', regex=False)\n",
    "df_link = df_link[df_link.wikipedia_url.str.startswith('en.wikipedia.org/')].copy()\n",
    "df_link.wikipedia_url = df_link.wikipedia_url.str.replace('en.wikipedia.org/wiki/', '', regex=False)\n",
    "df_link.wikipedia_url = [urllib.parse.unquote(x) for x in df_link.wikipedia_url]"
   ]
  },
  {
   "cell_type": "code",
   "execution_count": null,
   "id": "3d74a316-1334-4232-b4ed-0c77dc4dedab",
   "metadata": {},
   "outputs": [],
   "source": [
    "df_link_grid_wiki = pd.merge(df_link[['id', 'wikipedia_url']], df_grid[['grid_id', 'wikipedia_url']].drop_duplicates(), how='inner', on='wikipedia_url')[['id','grid_id']].drop_duplicates()"
   ]
  },
  {
   "cell_type": "code",
   "execution_count": null,
   "id": "03f8df09-9a2a-4384-94dd-ec87fa171414",
   "metadata": {},
   "outputs": [],
   "source": [
    "df_link_grid = pd.concat([df_link_grid_wiki, df_link_grid_links]).drop_duplicates()\n",
    "df_link_grid"
   ]
  },
  {
   "cell_type": "code",
   "execution_count": null,
   "id": "9a921c5c-a9c1-4837-89b7-dcbf8a40f8b8",
   "metadata": {},
   "outputs": [],
   "source": [
    "df_leiden = pd.read_csv('data/leiden_ranking_2021.tsv', sep='\\t')\n",
    "df_leiden"
   ]
  },
  {
   "cell_type": "code",
   "execution_count": null,
   "id": "92a7b78d-b43f-460a-87df-f22228dc8f7d",
   "metadata": {},
   "outputs": [],
   "source": [
    "df_leiden = df_leiden[['id','university']].merge(df_link_grid, how='left', on='id')"
   ]
  },
  {
   "cell_type": "code",
   "execution_count": null,
   "id": "72fac03d-5396-4073-80cc-df1f622e4e6c",
   "metadata": {},
   "outputs": [],
   "source": [
    "df_leiden.to_csv('data/leiden_grid.tsv', index=False, sep='\\t')"
   ]
  }
 ],
 "metadata": {
  "kernelspec": {
   "display_name": "Python 3 (ipykernel)",
   "language": "python",
   "name": "python3"
  },
  "language_info": {
   "codemirror_mode": {
    "name": "ipython",
    "version": 3
   },
   "file_extension": ".py",
   "mimetype": "text/x-python",
   "name": "python",
   "nbconvert_exporter": "python",
   "pygments_lexer": "ipython3",
   "version": "3.9.7"
  }
 },
 "nbformat": 4,
 "nbformat_minor": 5
}
